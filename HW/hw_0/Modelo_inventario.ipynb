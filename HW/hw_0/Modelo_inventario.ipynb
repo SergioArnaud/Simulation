{
 "cells": [
  {
   "cell_type": "code",
   "execution_count": 2,
   "metadata": {},
   "outputs": [],
   "source": [
    "from numpy.random import exponential,uniform, normal, gamma\n",
    "from heapq import heappush, heappop , heapify"
   ]
  },
  {
   "cell_type": "code",
   "execution_count": 3,
   "metadata": {},
   "outputs": [],
   "source": [
    "def inventory_model(lambda_ = 10, unif_params = (4,9), demand_distribution = normal,\n",
    "                    demand_params = (300,100) , months = 100, s = 100, S=1000, \n",
    "                    fixed_monthly_cost = 100, unit_cost= 3.5):\n",
    "    \n",
    "    def get_transactions(heap):\n",
    "        \n",
    "        k = 1\n",
    "        order_arrival_time = exponential(lambda_)\n",
    "        order_deliver_time = order_arrival_time + uniform(*unif_params)\n",
    "\n",
    "        while order_deliver_time < days:\n",
    "            demand = round(demand_distribution(*demand_params),2)\n",
    "            heappush(heap, ( order_deliver_time, 'Delivery {}'.format(k), demand))\n",
    "\n",
    "            k += 1\n",
    "            order_arrival_time += exponential(lambda_)\n",
    "            order_deliver_time = order_arrival_time + uniform(*unif_params)\n",
    "            \n",
    "        return heap\n",
    "        \n",
    "    monthly_cost = []\n",
    "    \n",
    "    days = 30*months\n",
    "    last_time = 0\n",
    "    \n",
    "    inventory_level = S\n",
    "    I1,I2 = 0,0\n",
    "    \n",
    "    heap = [(30*i,'Reorder inventory', 0) for i in range(1,months)]\n",
    "    heapify(heap)\n",
    "    heap = get_transactions(heap)\n",
    "    \n",
    "    while heap:\n",
    "        time, operation, quantity = heappop(heap)\n",
    "        \n",
    "        if inventory_level > 0:\n",
    "            I1 += (time-last_time)*(inventory_level)/30\n",
    "        else:\n",
    "            I2 += (time-last_time)*(-inventory_level)/30\n",
    "        \n",
    "        if 'Reorder' in operation:\n",
    "            if inventory_level < s:\n",
    "                monthly_cost.append(fixed_monthly_cost + unit_cost*(S-inventory_level))\n",
    "                inventory_level = S\n",
    "            else:\n",
    "                monthly_cost.append(fixed_monthly_cost)\n",
    "        else:\n",
    "            inventory_level -= quantity\n",
    "        \n",
    "        last_time = time\n",
    "        \n",
    "            \n",
    "    return I1/months, I2/months, sum(monthly_cost)\n"
   ]
  },
  {
   "cell_type": "code",
   "execution_count": 4,
   "metadata": {},
   "outputs": [
    {
     "data": {
      "text/plain": [
       "(469.14747937614936, 77.98160611527129, 310679.0800000001)"
      ]
     },
     "execution_count": 4,
     "metadata": {},
     "output_type": "execute_result"
    }
   ],
   "source": [
    "inventory_model()"
   ]
  },
  {
   "cell_type": "code",
   "execution_count": null,
   "metadata": {},
   "outputs": [],
   "source": []
  }
 ],
 "metadata": {
  "kernelspec": {
   "display_name": "Python 3",
   "language": "python",
   "name": "python3"
  },
  "language_info": {
   "codemirror_mode": {
    "name": "ipython",
    "version": 3
   },
   "file_extension": ".py",
   "mimetype": "text/x-python",
   "name": "python",
   "nbconvert_exporter": "python",
   "pygments_lexer": "ipython3",
   "version": "3.6.4"
  }
 },
 "nbformat": 4,
 "nbformat_minor": 2
}
